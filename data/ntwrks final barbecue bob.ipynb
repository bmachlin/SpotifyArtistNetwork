{
 "cells": [
  {
   "cell_type": "code",
   "execution_count": 1,
   "metadata": {
    "collapsed": true
   },
   "outputs": [],
   "source": [
    "import numpy as np\n",
    "import networkx as nx\n",
    "import pandas as pd\n",
    "import math\n",
    "import random\n",
    "import matplotlib.pyplot as plt\n",
    "import functools\n",
    "%matplotlib inline"
   ]
  },
  {
   "cell_type": "code",
   "execution_count": 2,
   "metadata": {
    "collapsed": false
   },
   "outputs": [],
   "source": [
    "bob_5_5 = nx.read_edgelist(\"./SAN-barbecue+bob-5-5-EL.csv\", delimiter=\"\\t\", nodetype=str, create_using=nx.DiGraph(), data=[('rank', float),])\n",
    "bob_5_10 = nx.read_edgelist(\"./SAN-barbecue+bob-5-10-EL.csv\", delimiter=\"\\t\", nodetype=str, create_using=nx.DiGraph(), data=[('rank', float),])\n",
    "bob_10_5 = nx.read_edgelist(\"./SAN-barbecue+bob-10-5-EL.csv\", delimiter=\"\\t\", nodetype=str, create_using=nx.DiGraph(), data=[('rank', float),])\n"
   ]
  },
  {
   "cell_type": "code",
   "execution_count": 3,
   "metadata": {
    "collapsed": false
   },
   "outputs": [],
   "source": [
    "bob_5_5_na = pd.read_csv(\"./SAN-barbecue+bob-5-5-NA.csv\", delimiter=\"\\t\")\n",
    "# bob_5_5_na.followers = bob_5_5_na.followers.astype(int)\n",
    "\n",
    "bob_5_10_na = pd.read_csv(\"./SAN-barbecue+bob-5-10-NA.csv\", delimiter=\"\\t\")\n",
    "# bob_5_10_na.followers = bob_5_10_na.followers.astype(int)\n",
    "\n",
    "bob_10_5_na = pd.read_csv(\"./SAN-barbecue+bob-10-5-NA.csv\", delimiter=\"\\t\")\n",
    "# bob_10_5_na.followers = bob_10_5_na.followers.astype(int)"
   ]
  },
  {
   "cell_type": "code",
   "execution_count": 4,
   "metadata": {
    "collapsed": true
   },
   "outputs": [],
   "source": [
    "# Assign node atrributes to nodes in the graph\n",
    "def addAttributes(graph, na):\n",
    "    labels = na.columns\n",
    "    iter = 0\n",
    "\n",
    "    for ID in na[labels[0]]:\n",
    "\n",
    "        for feature in labels:\n",
    "            cat = na[feature][iter]\n",
    "\n",
    "            if type(cat) is str:\n",
    "                graph.node[ID][feature] = cat\n",
    "\n",
    "            if not type(cat) is float or not math.isnan(cat):\n",
    "                graph.node[ID][feature] = cat\n",
    "\n",
    "        iter += 1"
   ]
  },
  {
   "cell_type": "code",
   "execution_count": 5,
   "metadata": {
    "collapsed": true
   },
   "outputs": [],
   "source": [
    "# Remove nodes created from edges leading out of the graph (next level of depth)\n",
    "def removeFakeNode(graph, na):\n",
    "    gNodes  = graph.nodes()\n",
    "    naNodes = list(na[na.columns[0]])\n",
    "    \n",
    "    fakeNodes = list(set(gNodes) - set(naNodes))\n",
    "    graph.remove_nodes_from(fakeNodes)\n",
    "    print(len(fakeNodes))"
   ]
  },
  {
   "cell_type": "code",
   "execution_count": 6,
   "metadata": {
    "collapsed": false,
    "scrolled": false
   },
   "outputs": [
    {
     "name": "stdout",
     "output_type": "stream",
     "text": [
      "0\n",
      "0\n",
      "0\n"
     ]
    }
   ],
   "source": [
    "addAttributes(bob_5_5, bob_5_5_na)\n",
    "addAttributes(bob_5_10, bob_5_10_na)\n",
    "addAttributes(bob_10_5, bob_10_5_na)\n",
    "removeFakeNode(bob_5_5, bob_5_5_na)\n",
    "removeFakeNode(bob_5_10, bob_5_10_na)\n",
    "removeFakeNode(bob_10_5, bob_10_5_na)"
   ]
  },
  {
   "cell_type": "code",
   "execution_count": 7,
   "metadata": {
    "collapsed": false,
    "scrolled": false
   },
   "outputs": [
    {
     "name": "stdout",
     "output_type": "stream",
     "text": [
      "41 150\n",
      "332 1060\n",
      "231 1050\n"
     ]
    }
   ],
   "source": [
    "print(bob_5_5.number_of_nodes(), bob_5_5.number_of_edges())\n",
    "print(bob_5_10.number_of_nodes(), bob_5_10.number_of_edges())\n",
    "print(bob_10_5.number_of_nodes(), bob_10_5.number_of_edges())"
   ]
  },
  {
   "cell_type": "markdown",
   "metadata": {},
   "source": [
    "## In Degree Analysis"
   ]
  },
  {
   "cell_type": "code",
   "execution_count": 8,
   "metadata": {
    "collapsed": false
   },
   "outputs": [
    {
     "data": {
      "image/png": "[encoded data removed]",
      "text/plain": [
       "<matplotlib.figure.Figure at 0x2458af939e8>"
      ]
     },
     "metadata": {},
     "output_type": "display_data"
    }
   ],
   "source": [
    "in_degrees_bob_5_5 = bob_5_5.in_degree(weight=\"rank\")\n",
    "in_degrees_bob_5_10 = bob_5_10.in_degree(weight=\"rank\")\n",
    "in_degrees_bob_10_5 = bob_10_5.in_degree(weight=\"rank\")\n",
    "\n",
    "    \n",
    "_ = plt.hist(list(in_degrees_bob_10_5.values()), bins=100, histtype='step')\n",
    "_ = plt.hist(list(in_degrees_bob_5_5.values()), bins=100, histtype='step')\n",
    "_ = plt.hist(list(in_degrees_bob_5_10.values()), bins=100, histtype='step')"
   ]
  },
  {
   "cell_type": "code",
   "execution_count": 17,
   "metadata": {
    "collapsed": false
   },
   "outputs": [
    {
     "data": {
      "image/png": "[encoded data removed]",
      "text/plain": [
       "<matplotlib.figure.Figure at 0x2458bbee5c0>"
      ]
     },
     "metadata": {},
     "output_type": "display_data"
    }
   ],
   "source": [
    "_ = plt.hist(list(in_degrees_bob_5_5.values()), bins=10, histtype='step', log=True)"
   ]
  },
  {
   "cell_type": "code",
   "execution_count": 18,
   "metadata": {
    "collapsed": false
   },
   "outputs": [
    {
     "data": {
      "image/png": "[encoded data removed]",
      "text/plain": [
       "<matplotlib.figure.Figure at 0x2458bc89a20>"
      ]
     },
     "metadata": {},
     "output_type": "display_data"
    }
   ],
   "source": [
    "_ = plt.hist(list(in_degrees_bob_5_10.values()), bins=20, histtype='step', log=True)"
   ]
  },
  {
   "cell_type": "code",
   "execution_count": 23,
   "metadata": {
    "collapsed": false
   },
   "outputs": [
    {
     "data": {
      "image/png": "[encoded data removed]",
      "text/plain": [
       "<matplotlib.figure.Figure at 0x2458bbd7438>"
      ]
     },
     "metadata": {},
     "output_type": "display_data"
    }
   ],
   "source": [
    "_ = plt.hist(list(in_degrees_bob_10_5.values()), bins=15, histtype='step', log=True)"
   ]
  },
  {
   "cell_type": "markdown",
   "metadata": {},
   "source": [
    "Observation: In-degree seems to decay exponentially.\n",
    "\n",
    "^check with log graph\n",
    "\n",
    "drop off at 5 or 10 because leaf nodes only have 1 in-edge always with weight 1->5 or 10"
   ]
  },
  {
   "cell_type": "code",
   "execution_count": 24,
   "metadata": {
    "collapsed": false
   },
   "outputs": [],
   "source": [
    "# pop = []\n",
    "# fol = []\n",
    "# num = 0\n",
    "# for k,v in in_degrees_bob_5_5.items():\n",
    "#     if v > 40:\n",
    "# #         print(bob_5_5.node[k])\n",
    "# #         print(\"\\n\")\n",
    "#         pop.append(bob_5_5.node[k][\"popularity\"])\n",
    "#         fol.append(bob_5_5.node[k][\"followers\"])\n",
    "#         num += 1\n",
    "# for k,v in in_degrees_bob_5_10.items():\n",
    "#     if v > 50:\n",
    "# #         print(bob_5_10.node[k])\n",
    "# #         print(\"\\n\")\n",
    "#         pop.append(bob_5_10.node[k][\"popularity\"])\n",
    "#         fol.append(bob_5_10.node[k][\"followers\"])\n",
    "#         num += 1\n",
    "# for k,v in in_degrees_bob_10_5.items():\n",
    "#     if v > 150:\n",
    "# #         print(bob_10_5.node[k])\n",
    "# #         print(\"\\n\")\n",
    "#         pop.append(bob_10_5.node[k][\"popularity\"])\n",
    "#         fol.append(bob_10_5.node[k][\"followers\"])\n",
    "#         num += 1\n",
    "        \n",
    "# print(sum(pop)/len(pop))\n",
    "# print(sum(fol)/len(fol))\n"
   ]
  },
  {
   "cell_type": "code",
   "execution_count": 25,
   "metadata": {
    "collapsed": false
   },
   "outputs": [
    {
     "name": "stdout",
     "output_type": "stream",
     "text": [
      "[24.414634146341463, 4989.3658536585363, 45.799999999999997, 25593.200000000001]\n",
      "[14.093373493975903, 3311.1355421686749, 45.235294117647058, 25497.852941176472]\n",
      "[15.623376623376624, 5179.0432900432897, 47.125, 41779.916666666664]\n"
     ]
    }
   ],
   "source": [
    "def topInDegreeAvgs(graph, pct):\n",
    "    in_degrees = graph.in_degree(weight=\"rank\")\n",
    "    topPop = []\n",
    "    topFol = []\n",
    "    avgPop = []\n",
    "    avgFol = []\n",
    "    num = 0\n",
    "    \n",
    "    for k in in_degrees.keys():\n",
    "            avgPop.append(graph.node[k]['popularity'])\n",
    "            avgFol.append(graph.node[k]['followers'])\n",
    "            \n",
    "    avgPop.sort()\n",
    "    avgFol.sort()\n",
    "    topPop = avgPop[int(len(avgPop) * pct) : int(len(avgPop))]\n",
    "    topFol = avgFol[int(len(avgFol) * pct) : int(len(avgFol))]\n",
    "    return [sum(avgPop)/len(avgPop), sum(avgFol)/len(avgFol), sum(topPop)/len(topPop), sum(topFol)/len(topFol)]\n",
    "\n",
    "def topInDegreeLists(graph, pct):\n",
    "    in_degrees = graph.in_degree(weight=\"rank\")\n",
    "    topPop = []\n",
    "    topFol = []\n",
    "    avgPop = []\n",
    "    avgFol = []\n",
    "    num = 0\n",
    "    \n",
    "    for k in in_degrees.keys():\n",
    "            avgPop.append(graph.node[k]['popularity'])\n",
    "            avgFol.append(graph.node[k]['followers'])\n",
    "            \n",
    "    avgPop.sort()\n",
    "    avgFol.sort()\n",
    "    topPop = avgPop[int(len(avgPop) * pct) : int(len(avgPop))]\n",
    "    topFol = avgFol[int(len(avgFol) * pct) : int(len(avgFol))]\n",
    "    return [avgPop, avgFol, topPop, topFol]\n",
    "\n",
    "print(topInDegreeAvgs(bob_5_5, .90))\n",
    "print(topInDegreeAvgs(bob_5_10, .90))\n",
    "print(topInDegreeAvgs(bob_10_5, .90))"
   ]
  },
  {
   "cell_type": "code",
   "execution_count": 26,
   "metadata": {
    "collapsed": true
   },
   "outputs": [],
   "source": [
    "b55idl = topInDegreeLists(bob_5_5, .90)"
   ]
  },
  {
   "cell_type": "code",
   "execution_count": 27,
   "metadata": {
    "collapsed": false
   },
   "outputs": [
    {
     "data": {
      "image/png": "[encoded data removed]",
      "text/plain": [
       "<matplotlib.figure.Figure at 0x2458bccfeb8>"
      ]
     },
     "metadata": {},
     "output_type": "display_data"
    }
   ],
   "source": [
    "_ = plt.hist(b55idl[0], range=(0,100), histtype=\"step\")\n",
    "_ = plt.hist(b55idl[2], range=(0,100), histtype=\"step\")"
   ]
  },
  {
   "cell_type": "code",
   "execution_count": 28,
   "metadata": {
    "collapsed": false
   },
   "outputs": [
    {
     "data": {
      "image/png": "[encoded data removed]",
      "text/plain": [
       "<matplotlib.figure.Figure at 0x2458bca27f0>"
      ]
     },
     "metadata": {},
     "output_type": "display_data"
    }
   ],
   "source": [
    "_ = plt.hist(b55idl[1], histtype=\"step\")\n",
    "_ = plt.hist(b55idl[3], histtype=\"step\")"
   ]
  },
  {
   "cell_type": "markdown",
   "metadata": {},
   "source": [
    "Observation: the artist with the highest in degree value are significantly more popular than the average artist in the graph"
   ]
  },
  {
   "cell_type": "markdown",
   "metadata": {
    "collapsed": true
   },
   "source": [
    "## Genre Analysis"
   ]
  },
  {
   "cell_type": "code",
   "execution_count": 29,
   "metadata": {
    "collapsed": false
   },
   "outputs": [],
   "source": [
    "def genreSimilarity(gA, gB):\n",
    "#     jaccard index\n",
    "    total = len(list(set(gA) | set(gB)))\n",
    "    same  = len(list(set(gA) & set(gB)))\n",
    "    if total == 0:\n",
    "        return 0\n",
    "    return same/total\n",
    "\n",
    "def getGenres(node):\n",
    "    genres = []\n",
    "    for g in [\"genre1\", \"genre2\", \"genre3\", \"genre4\", \"genre5\"]:\n",
    "        if g in node:\n",
    "            genres.append(node[g])\n",
    "    return genres"
   ]
  },
  {
   "cell_type": "code",
   "execution_count": 30,
   "metadata": {
    "collapsed": false
   },
   "outputs": [],
   "source": [
    "def similarity(g):\n",
    "    sim = []\n",
    "    for s,t,d in g.edges(data=True):\n",
    "        gS = getGenres(g.node[s])\n",
    "        gT = getGenres(g.node[t])\n",
    "        sim.append(genreSimilarity(gS, gT))\n",
    "    return sim"
   ]
  },
  {
   "cell_type": "code",
   "execution_count": 31,
   "metadata": {
    "collapsed": false
   },
   "outputs": [
    {
     "data": {
      "image/png": "[encoded data removed]",
      "text/plain": [
       "<matplotlib.figure.Figure at 0x2458bdb8400>"
      ]
     },
     "metadata": {},
     "output_type": "display_data"
    }
   ],
   "source": [
    "_ = plt.hist(similarity(bob_5_5))"
   ]
  },
  {
   "cell_type": "code",
   "execution_count": 32,
   "metadata": {
    "collapsed": false
   },
   "outputs": [
    {
     "data": {
      "image/png": "[encoded data removed]",
      "text/plain": [
       "<matplotlib.figure.Figure at 0x2458bbbcb38>"
      ]
     },
     "metadata": {},
     "output_type": "display_data"
    }
   ],
   "source": [
    "_ = plt.hist(similarity(bob_5_10))"
   ]
  },
  {
   "cell_type": "code",
   "execution_count": 33,
   "metadata": {
    "collapsed": false
   },
   "outputs": [
    {
     "data": {
      "image/png": "[encoded data removed]",
      "text/plain": [
       "<matplotlib.figure.Figure at 0x2458bd99be0>"
      ]
     },
     "metadata": {},
     "output_type": "display_data"
    }
   ],
   "source": [
    "_ = plt.hist(similarity(bob_10_5))"
   ]
  },
  {
   "cell_type": "code",
   "execution_count": 34,
   "metadata": {
    "collapsed": false
   },
   "outputs": [],
   "source": [
    "def genreList(graph):\n",
    "    genres = []\n",
    "    labels = [\"genre1\", \"genre2\", \"genre3\", \"genre4\", \"genre5\"]\n",
    "    \n",
    "    for n,d in graph.nodes_iter(data=True):\n",
    "        for l in labels:\n",
    "            if l in d:\n",
    "                genres.append(d[l])\n",
    "    return genres\n",
    "\n",
    "def genreShuffle(graph):\n",
    "    genres = genreList(graph)\n",
    "    random.shuffle(genres)\n",
    "    return genres"
   ]
  },
  {
   "cell_type": "code",
   "execution_count": 35,
   "metadata": {
    "collapsed": false
   },
   "outputs": [],
   "source": [
    "def genreReassign(graph, genres):\n",
    "    genresLen = len(genres)\n",
    "    iter = 0\n",
    "\n",
    "    for ID in graph.nodes():\n",
    "        for g in [\"genre1\", \"genre2\", \"genre3\", \"genre4\", \"genre5\"]:\n",
    "            if g in graph.node[ID] and iter < genresLen:\n",
    "                graph.node[ID][g] = genres[iter]\n",
    "            iter += 1"
   ]
  },
  {
   "cell_type": "code",
   "execution_count": 37,
   "metadata": {
    "collapsed": false
   },
   "outputs": [],
   "source": [
    "bob_5_5_shuf = bob_5_5.copy()\n",
    "genreReassign(bob_5_5_shuf, genreShuffle(bob_5_5_shuf))\n",
    "\n",
    "bob_5_10_shuf = bob_5_10.copy()\n",
    "genreReassign(bob_5_10_shuf, genreShuffle(bob_5_10_shuf))\n",
    "\n",
    "bob_10_5_shuf = bob_10_5.copy()\n",
    "genreReassign(bob_10_5_shuf, genreShuffle(bob_10_5_shuf))"
   ]
  },
  {
   "cell_type": "code",
   "execution_count": 38,
   "metadata": {
    "collapsed": false
   },
   "outputs": [
    {
     "data": {
      "image/png": "[encoded data removed]",
      "text/plain": [
       "<matplotlib.figure.Figure at 0x2458cf9b128>"
      ]
     },
     "metadata": {},
     "output_type": "display_data"
    }
   ],
   "source": [
    "_ = plt.hist(similarity(bob_5_5_shuf), histtype=\"step\")\n",
    "_ = plt.hist(similarity(bob_5_5), histtype=\"step\")"
   ]
  },
  {
   "cell_type": "code",
   "execution_count": 39,
   "metadata": {
    "collapsed": false
   },
   "outputs": [
    {
     "data": {
      "image/png": "[encoded data removed]",
      "text/plain": [
       "<matplotlib.figure.Figure at 0x2458bb7e1d0>"
      ]
     },
     "metadata": {},
     "output_type": "display_data"
    }
   ],
   "source": [
    "_ = plt.hist(similarity(bob_5_10_shuf), histtype=\"step\")\n",
    "_ = plt.hist(similarity(bob_5_10), histtype=\"step\")"
   ]
  },
  {
   "cell_type": "code",
   "execution_count": 40,
   "metadata": {
    "collapsed": false
   },
   "outputs": [
    {
     "data": {
      "image/png": "[encoded data removed]",
      "text/plain": [
       "<matplotlib.figure.Figure at 0x2458cdc88d0>"
      ]
     },
     "metadata": {},
     "output_type": "display_data"
    }
   ],
   "source": [
    "_ = plt.hist(similarity(bob_10_5_shuf), histtype=\"step\")\n",
    "_ = plt.hist(similarity(bob_10_5), histtype=\"step\")"
   ]
  },
  {
   "cell_type": "markdown",
   "metadata": {},
   "source": [
    "Observation: While genre doesn't seem to have a strong correclation with edges, it definitely has some significant influence."
   ]
  },
  {
   "cell_type": "markdown",
   "metadata": {
    "collapsed": true
   },
   "source": [
    "## Clustering Analysis"
   ]
  },
  {
   "cell_type": "code",
   "execution_count": 41,
   "metadata": {
    "collapsed": false
   },
   "outputs": [
    {
     "data": {
      "text/plain": [
       "['66SiMdpsWXE23qqX0JaWg9',\n",
       " '4vRyd1UZ8Eq98EppbwOBg6',\n",
       " '07NzVZ0BHZ0QOOw7nGvCgo',\n",
       " '0XFbUk3QnKwp0vl9sIQtIg']"
      ]
     },
     "execution_count": 41,
     "metadata": {},
     "output_type": "execute_result"
    }
   ],
   "source": [
    "def clustering(graph, node):\n",
    "    existing = 0\n",
    "    for x in graph.neighbors(node):\n",
    "        existing += 1\n",
    "    return existing\n",
    "\n",
    "bob_5_5.nodes()[10:14]"
   ]
  },
  {
   "cell_type": "code",
   "execution_count": 43,
   "metadata": {
    "collapsed": false
   },
   "outputs": [
    {
     "data": {
      "text/plain": [
       "5"
      ]
     },
     "execution_count": 43,
     "metadata": {},
     "output_type": "execute_result"
    }
   ],
   "source": [
    "clustering(bob_5_5, \"66SiMdpsWXE23qqX0JaWg9\")"
   ]
  },
  {
   "cell_type": "code",
   "execution_count": null,
   "metadata": {
    "collapsed": true
   },
   "outputs": [],
   "source": []
  }
 ],
 "metadata": {
  "anaconda-cloud": {},
  "kernelspec": {
   "display_name": "Python [default]",
   "language": "python",
   "name": "python3"
  },
  "language_info": {
   "codemirror_mode": {
    "name": "ipython",
    "version": 3
   },
   "file_extension": ".py",
   "mimetype": "text/x-python",
   "name": "python",
   "nbconvert_exporter": "python",
   "pygments_lexer": "ipython3",
   "version": "3.5.2"
  }
 },
 "nbformat": 4,
 "nbformat_minor": 1
}

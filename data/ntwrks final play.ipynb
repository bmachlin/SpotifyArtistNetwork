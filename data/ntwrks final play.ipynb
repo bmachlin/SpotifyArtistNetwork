{
 "cells": [
  {
   "cell_type": "code",
   "execution_count": 1,
   "metadata": {
    "collapsed": true
   },
   "outputs": [],
   "source": [
    "import numpy as np\n",
    "import networkx as nx\n",
    "import pandas as pd\n",
    "import math\n",
    "import random\n",
    "import matplotlib.pyplot as plt\n",
    "import graphviz\n",
    "%matplotlib inline"
   ]
  },
  {
   "cell_type": "code",
   "execution_count": 2,
   "metadata": {
    "collapsed": false
   },
   "outputs": [],
   "source": [
    "beatles_5_5 = nx.read_edgelist(\"./SAN-beatles-5-5-EL.csv\", delimiter=\"\\t\", nodetype=str, create_using=nx.DiGraph(), data=[('rank', float),])\n",
    "beatles_5_10 = nx.read_edgelist(\"./SAN-beatles-5-10-EL.csv\", delimiter=\"\\t\", nodetype=str, create_using=nx.DiGraph(), data=[('rank', float),])\n",
    "beatles_10_5 = nx.read_edgelist(\"./SAN-beatles-10-5-EL.csv\", delimiter=\"\\t\", nodetype=str, create_using=nx.DiGraph(), data=[('rank', float),])\n"
   ]
  },
  {
   "cell_type": "code",
   "execution_count": 3,
   "metadata": {
    "collapsed": false,
    "scrolled": true
   },
   "outputs": [
    {
     "name": "stdout",
     "output_type": "stream",
     "text": [
      "372\n",
      "1025\n",
      "2352\n",
      "7625\n",
      "1663\n",
      "7000\n"
     ]
    }
   ],
   "source": [
    "print(beatles_5_5.number_of_nodes())\n",
    "print(beatles_5_5.number_of_edges())\n",
    "print(beatles_5_10.number_of_nodes())\n",
    "print(beatles_5_10.number_of_edges())\n",
    "print(beatles_10_5.number_of_nodes())\n",
    "print(beatles_10_5.number_of_edges())"
   ]
  },
  {
   "cell_type": "code",
   "execution_count": 4,
   "metadata": {
    "collapsed": false
   },
   "outputs": [],
   "source": [
    "beatles_5_5_na = pd.read_csv(\"./SAN-beatles-5-5-NA.csv\", delimiter=\"\\t\")\n",
    "# beatles_5_5_na.followers = beatles_5_5_na.followers.astype(int)\n",
    "\n",
    "beatles_5_10_na = pd.read_csv(\"./SAN-beatles-5-10-NA.csv\", delimiter=\"\\t\")\n",
    "# beatles_5_10_na.followers = beatles_5_10_na.followers.astype(int)\n",
    "\n",
    "beatles_10_5_na = pd.read_csv(\"./SAN-beatles-10-5-NA.csv\", delimiter=\"\\t\")\n",
    "# beatles_10_5_na.followers = beatles_10_5_na.followers.astype(int)"
   ]
  },
  {
   "cell_type": "code",
   "execution_count": 5,
   "metadata": {
    "collapsed": false
   },
   "outputs": [],
   "source": [
    "labels = beatles_5_5_na.columns"
   ]
  },
  {
   "cell_type": "code",
   "execution_count": 6,
   "metadata": {
    "collapsed": false
   },
   "outputs": [],
   "source": [
    "# Assign node atrributes to nodes in the graph\n",
    "iter = 0\n",
    "\n",
    "for ID in beatles_5_5_na[\"id\"]:\n",
    "\n",
    "    for feature in labels:\n",
    "\n",
    "        cat = beatles_5_5_na[feature][iter]\n",
    "        \n",
    "        if type(cat) is str:\n",
    "            beatles_5_5.node[ID][feature] = cat\n",
    "            \n",
    "        if not type(cat) is float or not math.isnan(cat):\n",
    "            beatles_5_5.node[ID][feature] = cat\n",
    "        \n",
    "    iter += 1"
   ]
  },
  {
   "cell_type": "code",
   "execution_count": 7,
   "metadata": {
    "collapsed": false
   },
   "outputs": [
    {
     "name": "stdout",
     "output_type": "stream",
     "text": [
      "167\n"
     ]
    }
   ],
   "source": [
    "# Remove nodes created from edges leading out of the graph (next level of depth)\n",
    "found = False\n",
    "total = 0\n",
    "for ID in beatles_5_5.nodes():\n",
    "    found = False\n",
    "    for match in beatles_5_5_na[\"id\"]:\n",
    "        if match == ID:\n",
    "            found = True\n",
    "    if not found:\n",
    "        beatles_5_5.remove_node(ID)\n",
    "        total += 1\n",
    "\n",
    "print(total)"
   ]
  },
  {
   "cell_type": "code",
   "execution_count": 8,
   "metadata": {
    "collapsed": false
   },
   "outputs": [],
   "source": [
    "# Assign node atrributes to nodes in the graph\n",
    "iter = 0\n",
    "\n",
    "for ID in beatles_5_10_na[\"id\"]:\n",
    "\n",
    "    for feature in labels:\n",
    "\n",
    "        cat = beatles_5_10_na[feature][iter]\n",
    "        \n",
    "        if type(cat) is str:\n",
    "            beatles_5_10.node[ID][feature] = cat\n",
    "            \n",
    "        if not type(cat) is float or not math.isnan(cat):\n",
    "            beatles_5_10.node[ID][feature] = cat\n",
    "        \n",
    "    iter += 1"
   ]
  },
  {
   "cell_type": "code",
   "execution_count": 9,
   "metadata": {
    "collapsed": false
   },
   "outputs": [
    {
     "name": "stdout",
     "output_type": "stream",
     "text": [
      "0\n"
     ]
    }
   ],
   "source": [
    "# Remove nodes created from edges leading out of the graph (next level of depth)\n",
    "found = False\n",
    "total = 0\n",
    "for ID in beatles_5_10.nodes():\n",
    "    found = False\n",
    "    for match in beatles_5_10_na[\"id\"]:\n",
    "        if match == ID:\n",
    "            found = True\n",
    "    if not found:\n",
    "        beatles_5_10.remove_node(ID)\n",
    "        total += 1\n",
    "\n",
    "print(total)"
   ]
  },
  {
   "cell_type": "code",
   "execution_count": 10,
   "metadata": {
    "collapsed": false
   },
   "outputs": [],
   "source": [
    "# Assign node atrributes to nodes in the graph\n",
    "iter = 0\n",
    "\n",
    "for ID in beatles_10_5_na[\"id\"]:\n",
    "\n",
    "    for feature in labels:\n",
    "\n",
    "        cat = beatles_10_5_na[feature][iter]\n",
    "        \n",
    "        if type(cat) is str:\n",
    "            beatles_10_5.node[ID][feature] = cat\n",
    "            \n",
    "        if not type(cat) is float or not math.isnan(cat):\n",
    "            beatles_10_5.node[ID][feature] = cat\n",
    "        \n",
    "    iter += 1"
   ]
  },
  {
   "cell_type": "code",
   "execution_count": 11,
   "metadata": {
    "collapsed": false
   },
   "outputs": [
    {
     "name": "stdout",
     "output_type": "stream",
     "text": [
      "0\n"
     ]
    }
   ],
   "source": [
    "# Remove nodes created from edges leading out of the graph (next level of depth)\n",
    "found = False\n",
    "total = 0\n",
    "for ID in beatles_10_5.nodes():\n",
    "    found = False\n",
    "    for match in beatles_10_5_na[\"id\"]:\n",
    "        if match == ID:\n",
    "            found = True\n",
    "    if not found:\n",
    "        beatles_10_5.remove_node(ID)\n",
    "        total += 1\n",
    "\n",
    "print(total)"
   ]
  },
  {
   "cell_type": "markdown",
   "metadata": {},
   "source": [
    "## In Degree Analysis"
   ]
  },
  {
   "cell_type": "code",
   "execution_count": 12,
   "metadata": {
    "collapsed": false
   },
   "outputs": [
    {
     "data": {
      "image/png": "[encoded data removed]",
      "text/plain": [
       "<matplotlib.figure.Figure at 0x17380208940>"
      ]
     },
     "metadata": {},
     "output_type": "display_data"
    }
   ],
   "source": [
    "in_degrees_beatles_5_5 = beatles_5_5.in_degree(weight=\"rank\")\n",
    "\n",
    "in_degrees_beatles_5_5_dist = []\n",
    "for v in in_degrees_beatles_5_5.values():\n",
    "    in_degrees_beatles_5_5_dist.append(v)\n",
    "    \n",
    "_ = plt.hist(in_degrees_beatles_5_5_dist, bins=100)"
   ]
  },
  {
   "cell_type": "code",
   "execution_count": 13,
   "metadata": {
    "collapsed": false
   },
   "outputs": [
    {
     "data": {
      "image/png": "[encoded data removed]",
      "text/plain": [
       "<matplotlib.figure.Figure at 0x173800742b0>"
      ]
     },
     "metadata": {},
     "output_type": "display_data"
    }
   ],
   "source": [
    "in_degrees_beatles_5_10 = beatles_5_10.in_degree(weight=\"rank\")\n",
    "\n",
    "in_degrees_beatles_5_10_dist = []\n",
    "for v in in_degrees_beatles_5_10.values():\n",
    "    in_degrees_beatles_5_10_dist.append(v)\n",
    "    \n",
    "_ = plt.hist(in_degrees_beatles_5_10_dist, bins=100)"
   ]
  },
  {
   "cell_type": "code",
   "execution_count": 14,
   "metadata": {
    "collapsed": false
   },
   "outputs": [
    {
     "data": {
      "image/png": "[encoded data removed]",
      "text/plain": [
       "<matplotlib.figure.Figure at 0x17380b7d860>"
      ]
     },
     "metadata": {},
     "output_type": "display_data"
    }
   ],
   "source": [
    "in_degrees_beatles_10_5 = beatles_10_5.in_degree(weight=\"rank\")\n",
    "\n",
    "in_degrees_beatles_10_5_dist = []\n",
    "for v in in_degrees_beatles_10_5.values():\n",
    "    in_degrees_beatles_10_5_dist.append(v)\n",
    "    \n",
    "_ = plt.hist(in_degrees_beatles_10_5_dist, bins=100, histtype='step')\n",
    "_ = plt.hist(in_degrees_beatles_5_5_dist, bins=100, histtype='step')\n",
    "_ = plt.hist(in_degrees_beatles_5_10_dist, bins=100, histtype='step')"
   ]
  },
  {
   "cell_type": "code",
   "execution_count": 27,
   "metadata": {
    "collapsed": false
   },
   "outputs": [],
   "source": [
    "pop = []\n",
    "fol = []\n",
    "num = 0\n",
    "for k,v in in_degrees_beatles_5_5.items():\n",
    "    if v > 40:\n",
    "#         print(beatles_5_5.node[k])\n",
    "#         print(\"\\n\")\n",
    "        pop.append(beatles_5_5.node[k][\"popularity\"])\n",
    "        fol.append(beatles_5_5.node[k][\"followers\"])\n",
    "        num += 1\n",
    "for k,v in in_degrees_beatles_5_10.items():\n",
    "    if v > 50:\n",
    "#         print(beatles_5_10.node[k])\n",
    "#         print(\"\\n\")\n",
    "        pop.append(beatles_5_10.node[k][\"popularity\"])\n",
    "        fol.append(beatles_5_10.node[k][\"followers\"])\n",
    "        num += 1\n",
    "for k,v in in_degrees_beatles_10_5.items():\n",
    "    if v > 150:\n",
    "#         print(beatles_10_5.node[k])\n",
    "#         print(\"\\n\")\n",
    "        pop.append(beatles_10_5.node[k][\"popularity\"])\n",
    "        fol.append(beatles_10_5.node[k][\"followers\"])\n",
    "        num += 1"
   ]
  },
  {
   "cell_type": "code",
   "execution_count": 40,
   "metadata": {
    "collapsed": false
   },
   "outputs": [
    {
     "data": {
      "image/png": "[encoded data removed]",
      "text/plain": [
       "<matplotlib.figure.Figure at 0x173b13214a8>"
      ]
     },
     "metadata": {},
     "output_type": "display_data"
    }
   ],
   "source": [
    "_ = plt.hist(pop, range=(0,100))"
   ]
  },
  {
   "cell_type": "markdown",
   "metadata": {},
   "source": [
    "Observation: popularity doesn't really corres"
   ]
  },
  {
   "cell_type": "code",
   "execution_count": 39,
   "metadata": {
    "collapsed": false
   },
   "outputs": [
    {
     "data": {
      "image/png": "[encoded data removed]",
      "text/plain": [
       "<matplotlib.figure.Figure at 0x173b1287828>"
      ]
     },
     "metadata": {},
     "output_type": "display_data"
    }
   ],
   "source": [
    " _ = plt.hist(fol, range=(0, 100000), bins=20)"
   ]
  },
  {
   "cell_type": "code",
   "execution_count": null,
   "metadata": {
    "collapsed": true
   },
   "outputs": [],
   "source": []
  },
  {
   "cell_type": "code",
   "execution_count": null,
   "metadata": {
    "collapsed": true
   },
   "outputs": [],
   "source": []
  },
  {
   "cell_type": "code",
   "execution_count": 16,
   "metadata": {
    "collapsed": false
   },
   "outputs": [],
   "source": [
    "genres_b_5_5 = []\n",
    "\n",
    "def addGenre(genre):\n",
    "    if type(genre) is str:\n",
    "        genres_b_5_5.append(genre)\n",
    "beatles_5_10_na.genre1.apply(addGenre)\n",
    "beatles_5_10_na.genre2.apply(addGenre)\n",
    "beatles_5_10_na.genre3.apply(addGenre)\n",
    "beatles_5_10_na.genre4.apply(addGenre)\n",
    "beatles_5_10_na.genre5.apply(addGenre)\n",
    "\n",
    "random.shuffle(genres_b_5_5)"
   ]
  },
  {
   "cell_type": "code",
   "execution_count": 17,
   "metadata": {
    "collapsed": true
   },
   "outputs": [],
   "source": [
    "beatles_10_5?"
   ]
  }
 ],
 "metadata": {
  "anaconda-cloud": {},
  "kernelspec": {
   "display_name": "Python [default]",
   "language": "python",
   "name": "python3"
  },
  "language_info": {
   "codemirror_mode": {
    "name": "ipython",
    "version": 3
   },
   "file_extension": ".py",
   "mimetype": "text/x-python",
   "name": "python",
   "nbconvert_exporter": "python",
   "pygments_lexer": "ipython3",
   "version": "3.5.2"
  }
 },
 "nbformat": 4,
 "nbformat_minor": 1
}

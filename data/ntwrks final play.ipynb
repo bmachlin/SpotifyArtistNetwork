{
 "cells": [
  {
   "cell_type": "code",
   "execution_count": 1,
   "metadata": {
    "collapsed": true
   },
   "outputs": [],
   "source": [
    "import numpy as np\n",
    "import networkx as nx\n",
    "import pandas as pd\n",
    "import math\n",
    "import random\n",
    "import matplotlib.pyplot as plt\n",
    "import functools\n",
    "%matplotlib inline"
   ]
  },
  {
   "cell_type": "code",
   "execution_count": 2,
   "metadata": {
    "collapsed": false
   },
   "outputs": [],
   "source": [
    "beatles_5_5 = nx.read_edgelist(\"./SAN-beatles-5-5-EL.csv\", delimiter=\"\\t\", nodetype=str, create_using=nx.DiGraph(), data=[('rank', float),])\n",
    "beatles_5_10 = nx.read_edgelist(\"./SAN-beatles-5-10-EL.csv\", delimiter=\"\\t\", nodetype=str, create_using=nx.DiGraph(), data=[('rank', float),])\n",
    "beatles_10_5 = nx.read_edgelist(\"./SAN-beatles-10-5-EL.csv\", delimiter=\"\\t\", nodetype=str, create_using=nx.DiGraph(), data=[('rank', float),])\n"
   ]
  },
  {
   "cell_type": "code",
   "execution_count": 3,
   "metadata": {
    "collapsed": false,
    "scrolled": true
   },
   "outputs": [
    {
     "name": "stdout",
     "output_type": "stream",
     "text": [
      "372\n",
      "1025\n",
      "2352\n",
      "7625\n",
      "1663\n",
      "7000\n"
     ]
    }
   ],
   "source": [
    "print(beatles_5_5.number_of_nodes())\n",
    "print(beatles_5_5.number_of_edges())\n",
    "print(beatles_5_10.number_of_nodes())\n",
    "print(beatles_5_10.number_of_edges())\n",
    "print(beatles_10_5.number_of_nodes())\n",
    "print(beatles_10_5.number_of_edges())"
   ]
  },
  {
   "cell_type": "code",
   "execution_count": 4,
   "metadata": {
    "collapsed": false
   },
   "outputs": [],
   "source": [
    "beatles_5_5_na = pd.read_csv(\"./SAN-beatles-5-5-NA.csv\", delimiter=\"\\t\")\n",
    "# beatles_5_5_na.followers = beatles_5_5_na.followers.astype(int)\n",
    "\n",
    "beatles_5_10_na = pd.read_csv(\"./SAN-beatles-5-10-NA.csv\", delimiter=\"\\t\")\n",
    "# beatles_5_10_na.followers = beatles_5_10_na.followers.astype(int)\n",
    "\n",
    "beatles_10_5_na = pd.read_csv(\"./SAN-beatles-10-5-NA.csv\", delimiter=\"\\t\")\n",
    "# beatles_10_5_na.followers = beatles_10_5_na.followers.astype(int)"
   ]
  },
  {
   "cell_type": "code",
   "execution_count": 5,
   "metadata": {
    "collapsed": true
   },
   "outputs": [],
   "source": [
    "# Assign node atrributes to nodes in the graph\n",
    "def addAttributes(graph, na):\n",
    "    labels = na.columns\n",
    "    iter = 0\n",
    "\n",
    "    for ID in na[labels[0]]:\n",
    "\n",
    "        for feature in labels:\n",
    "            cat = na[feature][iter]\n",
    "\n",
    "            if type(cat) is str:\n",
    "                graph.node[ID][feature] = cat\n",
    "\n",
    "            if not type(cat) is float or not math.isnan(cat):\n",
    "                graph.node[ID][feature] = cat\n",
    "\n",
    "        iter += 1"
   ]
  },
  {
   "cell_type": "code",
   "execution_count": 6,
   "metadata": {
    "collapsed": true
   },
   "outputs": [],
   "source": [
    "# Remove nodes created from edges leading out of the graph (next level of depth)\n",
    "def removeFakeNode(graph, na):\n",
    "    gNodes  = graph.nodes()\n",
    "    naNodes = list(na[na.columns[0]])\n",
    "    \n",
    "    fakeNodes = list(set(gNodes) - set(naNodes))\n",
    "    graph.remove_nodes_from(fakeNodes)\n",
    "    print(len(fakeNodes))"
   ]
  },
  {
   "cell_type": "code",
   "execution_count": 7,
   "metadata": {
    "collapsed": false,
    "scrolled": false
   },
   "outputs": [
    {
     "name": "stdout",
     "output_type": "stream",
     "text": [
      "167\n",
      "0\n",
      "0\n"
     ]
    }
   ],
   "source": [
    "addAttributes(beatles_5_5, beatles_5_5_na)\n",
    "addAttributes(beatles_5_10, beatles_5_10_na)\n",
    "addAttributes(beatles_10_5, beatles_10_5_na)\n",
    "removeFakeNode(beatles_5_5, beatles_5_5_na)\n",
    "removeFakeNode(beatles_5_10, beatles_5_10_na)\n",
    "removeFakeNode(beatles_10_5, beatles_10_5_na)"
   ]
  },
  {
   "cell_type": "markdown",
   "metadata": {},
   "source": [
    "## In Degree Analysis"
   ]
  },
  {
   "cell_type": "code",
   "execution_count": 8,
   "metadata": {
    "collapsed": false
   },
   "outputs": [
    {
     "data": {
      "image/png": "[encoded data removed]",
      "text/plain": [
       "<matplotlib.figure.Figure at 0x1767152def0>"
      ]
     },
     "metadata": {},
     "output_type": "display_data"
    }
   ],
   "source": [
    "in_degrees_beatles_5_5 = beatles_5_5.in_degree(weight=\"rank\")\n",
    "in_degrees_beatles_5_10 = beatles_5_10.in_degree(weight=\"rank\")\n",
    "in_degrees_beatles_10_5 = beatles_10_5.in_degree(weight=\"rank\")\n",
    "\n",
    "    \n",
    "_ = plt.hist(list(in_degrees_beatles_10_5.values()), bins=100, histtype='step')\n",
    "_ = plt.hist(list(in_degrees_beatles_5_5.values()), bins=100, histtype='step')\n",
    "_ = plt.hist(list(in_degrees_beatles_5_10.values()), bins=100, histtype='step')"
   ]
  },
  {
   "cell_type": "code",
   "execution_count": 9,
   "metadata": {
    "collapsed": false
   },
   "outputs": [
    {
     "data": {
      "image/png": "[encoded data removed]",
      "text/plain": [
       "<matplotlib.figure.Figure at 0x17671548a58>"
      ]
     },
     "metadata": {},
     "output_type": "display_data"
    }
   ],
   "source": [
    "_ = plt.hist(list(in_degrees_beatles_5_5.values()), bins=100, histtype='step')"
   ]
  },
  {
   "cell_type": "markdown",
   "metadata": {},
   "source": [
    "Observation: In-degree seems to decay exponentially.\n",
    "\n",
    "^check with log graph\n",
    "\n",
    "drop off at 5 or 10 because leaf nodes only have 1 in-edge always with weight 1->5 or 10"
   ]
  },
  {
   "cell_type": "code",
   "execution_count": 10,
   "metadata": {
    "collapsed": false
   },
   "outputs": [
    {
     "name": "stdout",
     "output_type": "stream",
     "text": [
      "40.064516129\n",
      "16010.5483871\n"
     ]
    }
   ],
   "source": [
    "pop = []\n",
    "fol = []\n",
    "num = 0\n",
    "for k,v in in_degrees_beatles_5_5.items():\n",
    "    if v > 40:\n",
    "#         print(beatles_5_5.node[k])\n",
    "#         print(\"\\n\")\n",
    "        pop.append(beatles_5_5.node[k][\"popularity\"])\n",
    "        fol.append(beatles_5_5.node[k][\"followers\"])\n",
    "        num += 1\n",
    "for k,v in in_degrees_beatles_5_10.items():\n",
    "    if v > 50:\n",
    "#         print(beatles_5_10.node[k])\n",
    "#         print(\"\\n\")\n",
    "        pop.append(beatles_5_10.node[k][\"popularity\"])\n",
    "        fol.append(beatles_5_10.node[k][\"followers\"])\n",
    "        num += 1\n",
    "for k,v in in_degrees_beatles_10_5.items():\n",
    "    if v > 150:\n",
    "#         print(beatles_10_5.node[k])\n",
    "#         print(\"\\n\")\n",
    "        pop.append(beatles_10_5.node[k][\"popularity\"])\n",
    "        fol.append(beatles_10_5.node[k][\"followers\"])\n",
    "        num += 1\n",
    "        \n",
    "print(sum(pop)/len(pop))\n",
    "print(sum(fol)/len(fol))"
   ]
  },
  {
   "cell_type": "code",
   "execution_count": 11,
   "metadata": {
    "collapsed": false
   },
   "outputs": [
    {
     "data": {
      "image/png": "[encoded data removed]",
      "text/plain": [
       "<matplotlib.figure.Figure at 0x176718b5390>"
      ]
     },
     "metadata": {},
     "output_type": "display_data"
    }
   ],
   "source": [
    "_ = plt.hist(pop, range=(0,100))"
   ]
  },
  {
   "cell_type": "code",
   "execution_count": 12,
   "metadata": {
    "collapsed": false
   },
   "outputs": [
    {
     "data": {
      "image/png": "[encoded data removed]",
      "text/plain": [
       "<matplotlib.figure.Figure at 0x176718ec940>"
      ]
     },
     "metadata": {},
     "output_type": "display_data"
    }
   ],
   "source": [
    " _ = plt.hist(fol, range=(0, 100000), bins=20)"
   ]
  },
  {
   "cell_type": "markdown",
   "metadata": {},
   "source": [
    "Observation: popularity/followers doesn't really correspond to high in-degree"
   ]
  },
  {
   "cell_type": "markdown",
   "metadata": {
    "collapsed": true
   },
   "source": [
    "## Genre Analysis"
   ]
  },
  {
   "cell_type": "code",
   "execution_count": 13,
   "metadata": {
    "collapsed": false
   },
   "outputs": [],
   "source": [
    "def genreSimilarity(gA, gB):\n",
    "#     jaccard index\n",
    "    total = len(list(set(gA) | set(gB)))\n",
    "    same  = len(list(set(gA) & set(gB)))\n",
    "    if total == 0:\n",
    "        return 0\n",
    "    return same/total\n",
    "\n",
    "def getGenres(node):\n",
    "    genres = []\n",
    "    for g in [\"genre1\", \"genre2\", \"genre3\", \"genre4\", \"genre5\"]:\n",
    "        if g in node:\n",
    "            genres.append(node[g])\n",
    "    return genres"
   ]
  },
  {
   "cell_type": "code",
   "execution_count": 14,
   "metadata": {
    "collapsed": false
   },
   "outputs": [],
   "source": [
    "def similarity(g):\n",
    "    sim = []\n",
    "    for s,t,d in g.edges(data=True):\n",
    "        gS = getGenres(g.node[s])\n",
    "        gT = getGenres(g.node[t])\n",
    "        sim.append(genreSimilarity(gS, gT))\n",
    "    return sim"
   ]
  },
  {
   "cell_type": "code",
   "execution_count": 15,
   "metadata": {
    "collapsed": false
   },
   "outputs": [
    {
     "data": {
      "image/png": "[encoded data removed]",
      "text/plain": [
       "<matplotlib.figure.Figure at 0x176719ecd68>"
      ]
     },
     "metadata": {},
     "output_type": "display_data"
    }
   ],
   "source": [
    "_ = plt.hist(similarity(beatles_10_5), histtype=\"step\")"
   ]
  },
  {
   "cell_type": "code",
   "execution_count": 16,
   "metadata": {
    "collapsed": false
   },
   "outputs": [
    {
     "data": {
      "image/png": "[encoded data removed]",
      "text/plain": [
       "<matplotlib.figure.Figure at 0x17671ac58d0>"
      ]
     },
     "metadata": {},
     "output_type": "display_data"
    }
   ],
   "source": [
    "_ = plt.hist(similarity(beatles_5_10), histtype=\"step\")"
   ]
  },
  {
   "cell_type": "code",
   "execution_count": 17,
   "metadata": {
    "collapsed": false
   },
   "outputs": [
    {
     "data": {
      "image/png": "[encoded data removed]",
      "text/plain": [
       "<matplotlib.figure.Figure at 0x17671af5f60>"
      ]
     },
     "metadata": {},
     "output_type": "display_data"
    }
   ],
   "source": [
    "_ = plt.hist(similarity(beatles_5_5), histtype=\"step\")"
   ]
  },
  {
   "cell_type": "code",
   "execution_count": 18,
   "metadata": {
    "collapsed": false
   },
   "outputs": [],
   "source": [
    "def genreList(graph):\n",
    "    genres = []\n",
    "    labels = [\"genre1\", \"genre2\", \"genre3\", \"genre4\", \"genre5\"]\n",
    "    \n",
    "    for n,d in graph.nodes_iter(data=True):\n",
    "        for l in labels:\n",
    "            if l in d:\n",
    "                genres.append(d[l])\n",
    "    return genres\n",
    "\n",
    "def genreShuffle(graph):\n",
    "    genres = genreList(graph)\n",
    "    random.shuffle(genres)\n",
    "    return genres"
   ]
  },
  {
   "cell_type": "code",
   "execution_count": 19,
   "metadata": {
    "collapsed": false
   },
   "outputs": [],
   "source": [
    "def genreReassign(graph, genres):\n",
    "    genresLen = len(genres)\n",
    "    iter = 0\n",
    "\n",
    "    for ID in graph.nodes():\n",
    "        for g in [\"genre1\", \"genre2\", \"genre3\", \"genre4\", \"genre5\"]:\n",
    "            if g in graph.node[ID] and iter < genresLen:\n",
    "                graph.node[ID][g] = genres[iter]\n",
    "            iter += 1"
   ]
  },
  {
   "cell_type": "code",
   "execution_count": 20,
   "metadata": {
    "collapsed": false
   },
   "outputs": [
    {
     "name": "stdout",
     "output_type": "stream",
     "text": [
      "{'genre3': 'folk rock', 'followers': 5416, 'genre4': 'mellow gold', 'genre2': 'folk', 'genre5': 'roots rock', 'level': 5, 'artist': 'Crosby & Nash', 'genre1': 'country rock', 'popularity': 39, 'id': '2mDlls63YpRsMjgpyXxyu6'}\n",
      "{'genre3': 'disco', 'followers': 5416, 'genre4': 'country blues', 'id': '2mDlls63YpRsMjgpyXxyu6', 'popularity': 39, 'genre2': 'classic rock', 'artist': 'Crosby & Nash', 'genre1': 'fourth world', 'level': 5, 'genre5': 'bluesrock'}\n"
     ]
    }
   ],
   "source": [
    "beatles_5_5_shuf = beatles_5_5.copy()\n",
    "genreReassign(beatles_5_5_shuf, genreShuffle(beatles_5_5_shuf))\n",
    "\n",
    "beatles_5_10_shuf = beatles_5_10.copy()\n",
    "genreReassign(beatles_5_10_shuf, genreShuffle(beatles_5_10_shuf))\n",
    "\n",
    "beatles_10_5_shuf = beatles_10_5.copy()\n",
    "genreReassign(beatles_10_5_shuf, genreShuffle(beatles_10_5_shuf))\n",
    "\n",
    "\n",
    "print(beatles_5_10.node[\"2mDlls63YpRsMjgpyXxyu6\"])\n",
    "print(beatles_5_10_shuf.node[\"2mDlls63YpRsMjgpyXxyu6\"])"
   ]
  },
  {
   "cell_type": "code",
   "execution_count": 21,
   "metadata": {
    "collapsed": false
   },
   "outputs": [
    {
     "data": {
      "image/png": "[encoded data removed]",
      "text/plain": [
       "<matplotlib.figure.Figure at 0x17671858828>"
      ]
     },
     "metadata": {},
     "output_type": "display_data"
    }
   ],
   "source": [
    "_ = plt.hist(similarity(beatles_5_5_shuf), histtype=\"step\")"
   ]
  },
  {
   "cell_type": "code",
   "execution_count": 22,
   "metadata": {
    "collapsed": false
   },
   "outputs": [
    {
     "data": {
      "image/png": "[encoded data removed]",
      "text/plain": [
       "<matplotlib.figure.Figure at 0x17671a326a0>"
      ]
     },
     "metadata": {},
     "output_type": "display_data"
    }
   ],
   "source": [
    "_ = plt.hist(similarity(beatles_5_10_shuf), histtype=\"step\")"
   ]
  },
  {
   "cell_type": "code",
   "execution_count": 23,
   "metadata": {
    "collapsed": false
   },
   "outputs": [
    {
     "data": {
      "image/png": "[encoded data removed]",
      "text/plain": [
       "<matplotlib.figure.Figure at 0x176714adf98>"
      ]
     },
     "metadata": {},
     "output_type": "display_data"
    }
   ],
   "source": [
    "_ = plt.hist(similarity(beatles_10_5_shuf), histtype=\"step\")"
   ]
  },
  {
   "cell_type": "markdown",
   "metadata": {},
   "source": [
    "Observation: While genre doesn't seem to have a strong correclation with edges, it definitely has some influence."
   ]
  },
  {
   "cell_type": "code",
   "execution_count": null,
   "metadata": {
    "collapsed": true
   },
   "outputs": [],
   "source": []
  }
 ],
 "metadata": {
  "anaconda-cloud": {},
  "kernelspec": {
   "display_name": "Python [default]",
   "language": "python",
   "name": "python3"
  },
  "language_info": {
   "codemirror_mode": {
    "name": "ipython",
    "version": 3
   },
   "file_extension": ".py",
   "mimetype": "text/x-python",
   "name": "python",
   "nbconvert_exporter": "python",
   "pygments_lexer": "ipython3",
   "version": "3.5.2"
  }
 },
 "nbformat": 4,
 "nbformat_minor": 1
}

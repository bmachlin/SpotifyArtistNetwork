{
 "cells": [
  {
   "cell_type": "code",
   "execution_count": 1,
   "metadata": {
    "collapsed": true
   },
   "outputs": [],
   "source": [
    "import numpy as np\n",
    "import networkx as nx\n",
    "import pandas as pd\n",
    "import math\n",
    "import random\n",
    "import matplotlib.pyplot as plt\n",
    "import functools\n",
    "%matplotlib inline"
   ]
  },
  {
   "cell_type": "code",
   "execution_count": 2,
   "metadata": {
    "collapsed": false
   },
   "outputs": [],
   "source": [
    "forest_5_5 = nx.read_edgelist(\"./SAN-royal+forest-5-5-EL.csv\", delimiter=\"\\t\", nodetype=str, create_using=nx.DiGraph(), data=[('rank', float),])\n",
    "forest_5_10 = nx.read_edgelist(\"./SAN-royal+forest-5-10-EL.csv\", delimiter=\"\\t\", nodetype=str, create_using=nx.DiGraph(), data=[('rank', float),])\n",
    "forest_10_5 = nx.read_edgelist(\"./SAN-royal+forest-10-5-EL.csv\", delimiter=\"\\t\", nodetype=str, create_using=nx.DiGraph(), data=[('rank', float),])\n"
   ]
  },
  {
   "cell_type": "code",
   "execution_count": 3,
   "metadata": {
    "collapsed": false
   },
   "outputs": [],
   "source": [
    "forest_5_5_na = pd.read_csv(\"./SAN-royal+forest-5-5-NA.csv\", delimiter=\"\\t\")\n",
    "# forest_5_5_na.followers = forest_5_5_na.followers.astype(int)\n",
    "\n",
    "forest_5_10_na = pd.read_csv(\"./SAN-royal+forest-5-10-NA.csv\", delimiter=\"\\t\")\n",
    "# forest_5_10_na.followers = forest_5_10_na.followers.astype(int)\n",
    "\n",
    "forest_10_5_na = pd.read_csv(\"./SAN-royal+forest-10-5-NA.csv\", delimiter=\"\\t\")\n",
    "# forest_10_5_na.followers = forest_10_5_na.followers.astype(int)"
   ]
  },
  {
   "cell_type": "code",
   "execution_count": 4,
   "metadata": {
    "collapsed": true
   },
   "outputs": [],
   "source": [
    "# Assign node atrributes to nodes in the graph\n",
    "def addAttributes(graph, na):\n",
    "    labels = na.columns\n",
    "    iter = 0\n",
    "\n",
    "    for ID in na[labels[0]]:\n",
    "\n",
    "        for feature in labels:\n",
    "            cat = na[feature][iter]\n",
    "\n",
    "            if type(cat) is str:\n",
    "                graph.node[ID][feature] = cat\n",
    "\n",
    "            if not type(cat) is float or not math.isnan(cat):\n",
    "                graph.node[ID][feature] = cat\n",
    "\n",
    "        iter += 1"
   ]
  },
  {
   "cell_type": "code",
   "execution_count": 5,
   "metadata": {
    "collapsed": true
   },
   "outputs": [],
   "source": [
    "# Remove nodes created from edges leading out of the graph (next level of depth)\n",
    "def removeFakeNode(graph, na):\n",
    "    gNodes  = graph.nodes()\n",
    "    naNodes = list(na[na.columns[0]])\n",
    "    \n",
    "    fakeNodes = list(set(gNodes) - set(naNodes))\n",
    "    graph.remove_nodes_from(fakeNodes)\n",
    "    print(len(fakeNodes))"
   ]
  },
  {
   "cell_type": "code",
   "execution_count": 6,
   "metadata": {
    "collapsed": false,
    "scrolled": false
   },
   "outputs": [
    {
     "name": "stdout",
     "output_type": "stream",
     "text": [
      "0\n",
      "0\n",
      "0\n"
     ]
    }
   ],
   "source": [
    "addAttributes(forest_5_5, forest_5_5_na)\n",
    "addAttributes(forest_5_10, forest_5_10_na)\n",
    "addAttributes(forest_10_5, forest_10_5_na)\n",
    "removeFakeNode(forest_5_5, forest_5_5_na)\n",
    "removeFakeNode(forest_5_10, forest_5_10_na)\n",
    "removeFakeNode(forest_10_5, forest_10_5_na)"
   ]
  },
  {
   "cell_type": "code",
   "execution_count": 7,
   "metadata": {
    "collapsed": false,
    "scrolled": false
   },
   "outputs": [
    {
     "name": "stdout",
     "output_type": "stream",
     "text": [
      "42 115\n",
      "1972 5330\n",
      "1279 2630\n"
     ]
    }
   ],
   "source": [
    "print(forest_5_5.number_of_nodes(), forest_5_5.number_of_edges())\n",
    "print(forest_5_10.number_of_nodes(), forest_5_10.number_of_edges())\n",
    "print(forest_10_5.number_of_nodes(), forest_10_5.number_of_edges())"
   ]
  },
  {
   "cell_type": "markdown",
   "metadata": {},
   "source": [
    "## In Degree Analysis"
   ]
  },
  {
   "cell_type": "code",
   "execution_count": 8,
   "metadata": {
    "collapsed": false
   },
   "outputs": [
    {
     "data": {
      "image/png": "[encoded data removed]",
      "text/plain": [
       "<matplotlib.figure.Figure at 0x2632d236748>"
      ]
     },
     "metadata": {},
     "output_type": "display_data"
    }
   ],
   "source": [
    "in_degrees_forest_5_5 = forest_5_5.in_degree(weight=\"rank\")\n",
    "in_degrees_forest_5_10 = forest_5_10.in_degree(weight=\"rank\")\n",
    "in_degrees_forest_10_5 = forest_10_5.in_degree(weight=\"rank\")\n",
    "\n",
    "    \n",
    "_ = plt.hist(list(in_degrees_forest_10_5.values()), bins=100, histtype='step')\n",
    "_ = plt.hist(list(in_degrees_forest_5_5.values()), bins=100, histtype='step')\n",
    "_ = plt.hist(list(in_degrees_forest_5_10.values()), bins=100, histtype='step')"
   ]
  },
  {
   "cell_type": "code",
   "execution_count": 9,
   "metadata": {
    "collapsed": false
   },
   "outputs": [
    {
     "data": {
      "image/png": "[encoded data removed]",
      "text/plain": [
       "<matplotlib.figure.Figure at 0x26331b9ba20>"
      ]
     },
     "metadata": {},
     "output_type": "display_data"
    }
   ],
   "source": [
    "_ = plt.hist(list(in_degrees_forest_5_5.values()), bins=25, histtype='step', log=True)"
   ]
  },
  {
   "cell_type": "code",
   "execution_count": 10,
   "metadata": {
    "collapsed": false
   },
   "outputs": [
    {
     "data": {
      "image/png": "[encoded data removed]",
      "text/plain": [
       "<matplotlib.figure.Figure at 0x26332689160>"
      ]
     },
     "metadata": {},
     "output_type": "display_data"
    }
   ],
   "source": [
    "_ = plt.hist(list(in_degrees_forest_5_10.values()), bins=40, histtype='step', log=True)"
   ]
  },
  {
   "cell_type": "code",
   "execution_count": 12,
   "metadata": {
    "collapsed": false
   },
   "outputs": [
    {
     "data": {
      "image/png": "[encoded data removed]",
      "text/plain": [
       "<matplotlib.figure.Figure at 0x2633382a6d8>"
      ]
     },
     "metadata": {},
     "output_type": "display_data"
    }
   ],
   "source": [
    "_ = plt.hist(list(in_degrees_forest_10_5.values()), bins=40, histtype='step', log=True)"
   ]
  },
  {
   "cell_type": "markdown",
   "metadata": {},
   "source": [
    "Observation: In-degree seems to decay exponentially.\n",
    "\n",
    "^check with log graph\n",
    "\n",
    "drop off at 5 or 10 because leaf nodes only have 1 in-edge always with weight 1->5 or 10"
   ]
  },
  {
   "cell_type": "code",
   "execution_count": 13,
   "metadata": {
    "collapsed": false
   },
   "outputs": [],
   "source": [
    "# pop = []\n",
    "# fol = []\n",
    "# num = 0\n",
    "# for k,v in in_degrees_forest_5_5.items():\n",
    "#     if v > 40:\n",
    "# #         print(forest_5_5.node[k])\n",
    "# #         print(\"\\n\")\n",
    "#         pop.append(forest_5_5.node[k][\"popularity\"])\n",
    "#         fol.append(forest_5_5.node[k][\"followers\"])\n",
    "#         num += 1\n",
    "# for k,v in in_degrees_forest_5_10.items():\n",
    "#     if v > 50:\n",
    "# #         print(forest_5_10.node[k])\n",
    "# #         print(\"\\n\")\n",
    "#         pop.append(forest_5_10.node[k][\"popularity\"])\n",
    "#         fol.append(forest_5_10.node[k][\"followers\"])\n",
    "#         num += 1\n",
    "# for k,v in in_degrees_forest_10_5.items():\n",
    "#     if v > 150:\n",
    "# #         print(forest_10_5.node[k])\n",
    "# #         print(\"\\n\")\n",
    "#         pop.append(forest_10_5.node[k][\"popularity\"])\n",
    "#         fol.append(forest_10_5.node[k][\"followers\"])\n",
    "#         num += 1\n",
    "        \n",
    "# print(sum(pop)/len(pop))\n",
    "# print(sum(fol)/len(fol))\n"
   ]
  },
  {
   "cell_type": "code",
   "execution_count": 14,
   "metadata": {
    "collapsed": false
   },
   "outputs": [
    {
     "name": "stdout",
     "output_type": "stream",
     "text": [
      "[23.071428571428573, 10087.880952380952, 49.200000000000003, 51609.199999999997]\n"
     ]
    },
    {
     "ename": "TypeError",
     "evalue": "unsupported operand type(s) for +: 'int' and 'str'",
     "output_type": "error",
     "traceback": [
      "\u001b[0;31m---------------------------------------------------------------------------\u001b[0m",
      "\u001b[0;31mTypeError\u001b[0m                                 Traceback (most recent call last)",
      "\u001b[0;32m<ipython-input-14-40b0cedac772>\u001b[0m in \u001b[0;36m<module>\u001b[0;34m()\u001b[0m\n\u001b[1;32m     36\u001b[0m \u001b[1;33m\u001b[0m\u001b[0m\n\u001b[1;32m     37\u001b[0m \u001b[0mprint\u001b[0m\u001b[1;33m(\u001b[0m\u001b[0mtopInDegreeAvgs\u001b[0m\u001b[1;33m(\u001b[0m\u001b[0mforest_5_5\u001b[0m\u001b[1;33m,\u001b[0m \u001b[1;36m.90\u001b[0m\u001b[1;33m)\u001b[0m\u001b[1;33m)\u001b[0m\u001b[1;33m\u001b[0m\u001b[0m\n\u001b[0;32m---> 38\u001b[0;31m \u001b[0mprint\u001b[0m\u001b[1;33m(\u001b[0m\u001b[0mtopInDegreeAvgs\u001b[0m\u001b[1;33m(\u001b[0m\u001b[0mforest_5_10\u001b[0m\u001b[1;33m,\u001b[0m \u001b[1;36m.90\u001b[0m\u001b[1;33m)\u001b[0m\u001b[1;33m)\u001b[0m\u001b[1;33m\u001b[0m\u001b[0m\n\u001b[0m\u001b[1;32m     39\u001b[0m \u001b[0mprint\u001b[0m\u001b[1;33m(\u001b[0m\u001b[0mtopInDegreeAvgs\u001b[0m\u001b[1;33m(\u001b[0m\u001b[0mforest_10_5\u001b[0m\u001b[1;33m,\u001b[0m \u001b[1;36m.90\u001b[0m\u001b[1;33m)\u001b[0m\u001b[1;33m)\u001b[0m\u001b[1;33m\u001b[0m\u001b[0m\n",
      "\u001b[0;32m<ipython-input-14-40b0cedac772>\u001b[0m in \u001b[0;36mtopInDegreeAvgs\u001b[0;34m(graph, pct)\u001b[0m\n\u001b[1;32m     15\u001b[0m     \u001b[0mtopPop\u001b[0m \u001b[1;33m=\u001b[0m \u001b[0mavgPop\u001b[0m\u001b[1;33m[\u001b[0m\u001b[0mint\u001b[0m\u001b[1;33m(\u001b[0m\u001b[0mlen\u001b[0m\u001b[1;33m(\u001b[0m\u001b[0mavgPop\u001b[0m\u001b[1;33m)\u001b[0m \u001b[1;33m*\u001b[0m \u001b[0mpct\u001b[0m\u001b[1;33m)\u001b[0m \u001b[1;33m:\u001b[0m \u001b[0mint\u001b[0m\u001b[1;33m(\u001b[0m\u001b[0mlen\u001b[0m\u001b[1;33m(\u001b[0m\u001b[0mavgPop\u001b[0m\u001b[1;33m)\u001b[0m\u001b[1;33m)\u001b[0m\u001b[1;33m]\u001b[0m\u001b[1;33m\u001b[0m\u001b[0m\n\u001b[1;32m     16\u001b[0m     \u001b[0mtopFol\u001b[0m \u001b[1;33m=\u001b[0m \u001b[0mavgFol\u001b[0m\u001b[1;33m[\u001b[0m\u001b[0mint\u001b[0m\u001b[1;33m(\u001b[0m\u001b[0mlen\u001b[0m\u001b[1;33m(\u001b[0m\u001b[0mavgFol\u001b[0m\u001b[1;33m)\u001b[0m \u001b[1;33m*\u001b[0m \u001b[0mpct\u001b[0m\u001b[1;33m)\u001b[0m \u001b[1;33m:\u001b[0m \u001b[0mint\u001b[0m\u001b[1;33m(\u001b[0m\u001b[0mlen\u001b[0m\u001b[1;33m(\u001b[0m\u001b[0mavgFol\u001b[0m\u001b[1;33m)\u001b[0m\u001b[1;33m)\u001b[0m\u001b[1;33m]\u001b[0m\u001b[1;33m\u001b[0m\u001b[0m\n\u001b[0;32m---> 17\u001b[0;31m     \u001b[1;32mreturn\u001b[0m \u001b[1;33m[\u001b[0m\u001b[0msum\u001b[0m\u001b[1;33m(\u001b[0m\u001b[0mavgPop\u001b[0m\u001b[1;33m)\u001b[0m\u001b[1;33m/\u001b[0m\u001b[0mlen\u001b[0m\u001b[1;33m(\u001b[0m\u001b[0mavgPop\u001b[0m\u001b[1;33m)\u001b[0m\u001b[1;33m,\u001b[0m \u001b[0msum\u001b[0m\u001b[1;33m(\u001b[0m\u001b[0mavgFol\u001b[0m\u001b[1;33m)\u001b[0m\u001b[1;33m/\u001b[0m\u001b[0mlen\u001b[0m\u001b[1;33m(\u001b[0m\u001b[0mavgFol\u001b[0m\u001b[1;33m)\u001b[0m\u001b[1;33m,\u001b[0m \u001b[0msum\u001b[0m\u001b[1;33m(\u001b[0m\u001b[0mtopPop\u001b[0m\u001b[1;33m)\u001b[0m\u001b[1;33m/\u001b[0m\u001b[0mlen\u001b[0m\u001b[1;33m(\u001b[0m\u001b[0mtopPop\u001b[0m\u001b[1;33m)\u001b[0m\u001b[1;33m,\u001b[0m \u001b[0msum\u001b[0m\u001b[1;33m(\u001b[0m\u001b[0mtopFol\u001b[0m\u001b[1;33m)\u001b[0m\u001b[1;33m/\u001b[0m\u001b[0mlen\u001b[0m\u001b[1;33m(\u001b[0m\u001b[0mtopFol\u001b[0m\u001b[1;33m)\u001b[0m\u001b[1;33m]\u001b[0m\u001b[1;33m\u001b[0m\u001b[0m\n\u001b[0m\u001b[1;32m     18\u001b[0m \u001b[1;33m\u001b[0m\u001b[0m\n\u001b[1;32m     19\u001b[0m \u001b[1;32mdef\u001b[0m \u001b[0mtopInDegreeLists\u001b[0m\u001b[1;33m(\u001b[0m\u001b[0mgraph\u001b[0m\u001b[1;33m,\u001b[0m \u001b[0mpct\u001b[0m\u001b[1;33m)\u001b[0m\u001b[1;33m:\u001b[0m\u001b[1;33m\u001b[0m\u001b[0m\n",
      "\u001b[0;31mTypeError\u001b[0m: unsupported operand type(s) for +: 'int' and 'str'"
     ]
    }
   ],
   "source": [
    "def topInDegreeAvgs(graph, pct):\n",
    "    in_degrees = graph.in_degree(weight=\"rank\")\n",
    "    topPop = []\n",
    "    topFol = []\n",
    "    avgPop = []\n",
    "    avgFol = []\n",
    "    num = 0\n",
    "    \n",
    "    for k in in_degrees.keys():\n",
    "            avgPop.append(graph.node[k]['popularity'])\n",
    "            avgFol.append(graph.node[k]['followers'])\n",
    "            \n",
    "    avgPop.sort()\n",
    "    avgFol.sort()\n",
    "    topPop = avgPop[int(len(avgPop) * pct) : int(len(avgPop))]\n",
    "    topFol = avgFol[int(len(avgFol) * pct) : int(len(avgFol))]\n",
    "    return [sum(avgPop)/len(avgPop), sum(avgFol)/len(avgFol), sum(topPop)/len(topPop), sum(topFol)/len(topFol)]\n",
    "\n",
    "def topInDegreeLists(graph, pct):\n",
    "    in_degrees = graph.in_degree(weight=\"rank\")\n",
    "    topPop = []\n",
    "    topFol = []\n",
    "    avgPop = []\n",
    "    avgFol = []\n",
    "    num = 0\n",
    "    \n",
    "    for k in in_degrees.keys():\n",
    "            avgPop.append(graph.node[k]['popularity'])\n",
    "            avgFol.append(graph.node[k]['followers'])\n",
    "            \n",
    "    avgPop.sort()\n",
    "    avgFol.sort()\n",
    "    topPop = avgPop[int(len(avgPop) * pct) : int(len(avgPop))]\n",
    "    topFol = avgFol[int(len(avgFol) * pct) : int(len(avgFol))]\n",
    "    return [avgPop, avgFol, topPop, topFol]\n",
    "\n",
    "print(topInDegreeAvgs(forest_5_5, .90))\n",
    "print(topInDegreeAvgs(forest_5_10, .90))\n",
    "print(topInDegreeAvgs(forest_10_5, .90))"
   ]
  },
  {
   "cell_type": "code",
   "execution_count": 15,
   "metadata": {
    "collapsed": true
   },
   "outputs": [],
   "source": [
    "b55idl = topInDegreeLists(forest_5_5, .90)"
   ]
  },
  {
   "cell_type": "code",
   "execution_count": 16,
   "metadata": {
    "collapsed": false
   },
   "outputs": [
    {
     "data": {
      "image/png": "[encoded data removed]",
      "text/plain": [
       "<matplotlib.figure.Figure at 0x26333899da0>"
      ]
     },
     "metadata": {},
     "output_type": "display_data"
    }
   ],
   "source": [
    "_ = plt.hist(b55idl[0], range=(0,100), histtype=\"step\")\n",
    "_ = plt.hist(b55idl[2], range=(0,100), histtype=\"step\")"
   ]
  },
  {
   "cell_type": "code",
   "execution_count": 17,
   "metadata": {
    "collapsed": false
   },
   "outputs": [
    {
     "data": {
      "image/png": "[encoded data removed]",
      "text/plain": [
       "<matplotlib.figure.Figure at 0x263338f0470>"
      ]
     },
     "metadata": {},
     "output_type": "display_data"
    }
   ],
   "source": [
    "_ = plt.hist(b55idl[1], histtype=\"step\")\n",
    "_ = plt.hist(b55idl[3], histtype=\"step\")"
   ]
  },
  {
   "cell_type": "markdown",
   "metadata": {},
   "source": [
    "Observation: the artist with the highest in degree value are significantly more popular than the average artist in the graph"
   ]
  },
  {
   "cell_type": "markdown",
   "metadata": {
    "collapsed": true
   },
   "source": [
    "## Genre Analysis"
   ]
  },
  {
   "cell_type": "code",
   "execution_count": 18,
   "metadata": {
    "collapsed": false
   },
   "outputs": [],
   "source": [
    "def genreSimilarity(gA, gB):\n",
    "#     jaccard index\n",
    "    total = len(list(set(gA) | set(gB)))\n",
    "    same  = len(list(set(gA) & set(gB)))\n",
    "    if total == 0:\n",
    "        return 0\n",
    "    return same/total\n",
    "\n",
    "def getGenres(node):\n",
    "    genres = []\n",
    "    for g in [\"genre1\", \"genre2\", \"genre3\", \"genre4\", \"genre5\"]:\n",
    "        if g in node:\n",
    "            genres.append(node[g])\n",
    "    return genres"
   ]
  },
  {
   "cell_type": "code",
   "execution_count": 19,
   "metadata": {
    "collapsed": false
   },
   "outputs": [],
   "source": [
    "def similarity(g):\n",
    "    sim = []\n",
    "    for s,t,d in g.edges(data=True):\n",
    "        gS = getGenres(g.node[s])\n",
    "        gT = getGenres(g.node[t])\n",
    "        sim.append(genreSimilarity(gS, gT))\n",
    "    return sim"
   ]
  },
  {
   "cell_type": "code",
   "execution_count": 20,
   "metadata": {
    "collapsed": false
   },
   "outputs": [
    {
     "data": {
      "image/png": "[encoded data removed]",
      "text/plain": [
       "<matplotlib.figure.Figure at 0x2633399fc18>"
      ]
     },
     "metadata": {},
     "output_type": "display_data"
    }
   ],
   "source": [
    "_ = plt.hist(similarity(forest_5_5))"
   ]
  },
  {
   "cell_type": "code",
   "execution_count": 21,
   "metadata": {
    "collapsed": false
   },
   "outputs": [
    {
     "data": {
      "image/png": "[encoded data removed]",
      "text/plain": [
       "<matplotlib.figure.Figure at 0x263339c30b8>"
      ]
     },
     "metadata": {},
     "output_type": "display_data"
    }
   ],
   "source": [
    "_ = plt.hist(similarity(forest_5_10))"
   ]
  },
  {
   "cell_type": "code",
   "execution_count": 22,
   "metadata": {
    "collapsed": false
   },
   "outputs": [
    {
     "data": {
      "image/png": "[encoded data removed]",
      "text/plain": [
       "<matplotlib.figure.Figure at 0x263301313c8>"
      ]
     },
     "metadata": {},
     "output_type": "display_data"
    }
   ],
   "source": [
    "_ = plt.hist(similarity(forest_10_5))"
   ]
  },
  {
   "cell_type": "code",
   "execution_count": 23,
   "metadata": {
    "collapsed": false
   },
   "outputs": [],
   "source": [
    "def genreList(graph):\n",
    "    genres = []\n",
    "    labels = [\"genre1\", \"genre2\", \"genre3\", \"genre4\", \"genre5\"]\n",
    "    \n",
    "    for n,d in graph.nodes_iter(data=True):\n",
    "        for l in labels:\n",
    "            if l in d:\n",
    "                genres.append(d[l])\n",
    "    return genres\n",
    "\n",
    "def genreShuffle(graph):\n",
    "    genres = genreList(graph)\n",
    "    random.shuffle(genres)\n",
    "    return genres"
   ]
  },
  {
   "cell_type": "code",
   "execution_count": 24,
   "metadata": {
    "collapsed": false
   },
   "outputs": [],
   "source": [
    "def genreReassign(graph, genres):\n",
    "    genresLen = len(genres)\n",
    "    iter = 0\n",
    "\n",
    "    for ID in graph.nodes():\n",
    "        for g in [\"genre1\", \"genre2\", \"genre3\", \"genre4\", \"genre5\"]:\n",
    "            if g in graph.node[ID] and iter < genresLen:\n",
    "                graph.node[ID][g] = genres[iter]\n",
    "            iter += 1"
   ]
  },
  {
   "cell_type": "code",
   "execution_count": 26,
   "metadata": {
    "collapsed": false
   },
   "outputs": [],
   "source": [
    "forest_5_5_shuf = forest_5_5.copy()\n",
    "genreReassign(forest_5_5_shuf, genreShuffle(forest_5_5_shuf))\n",
    "\n",
    "forest_5_10_shuf = forest_5_10.copy()\n",
    "genreReassign(forest_5_10_shuf, genreShuffle(forest_5_10_shuf))\n",
    "\n",
    "forest_10_5_shuf = forest_10_5.copy()\n",
    "genreReassign(forest_10_5_shuf, genreShuffle(forest_10_5_shuf))\n"
   ]
  },
  {
   "cell_type": "code",
   "execution_count": 27,
   "metadata": {
    "collapsed": false
   },
   "outputs": [
    {
     "data": {
      "image/png": "[encoded data removed]",
      "text/plain": [
       "<matplotlib.figure.Figure at 0x26332766f60>"
      ]
     },
     "metadata": {},
     "output_type": "display_data"
    }
   ],
   "source": [
    "_ = plt.hist(similarity(forest_5_5_shuf), histtype=\"step\")\n",
    "_ = plt.hist(similarity(forest_5_5), histtype=\"step\")"
   ]
  },
  {
   "cell_type": "code",
   "execution_count": 28,
   "metadata": {
    "collapsed": false
   },
   "outputs": [
    {
     "data": {
      "image/png": "[encoded data removed]",
      "text/plain": [
       "<matplotlib.figure.Figure at 0x26332417e80>"
      ]
     },
     "metadata": {},
     "output_type": "display_data"
    }
   ],
   "source": [
    "_ = plt.hist(similarity(forest_5_10_shuf), histtype=\"step\")\n",
    "_ = plt.hist(similarity(forest_5_10), histtype=\"step\")"
   ]
  },
  {
   "cell_type": "code",
   "execution_count": 29,
   "metadata": {
    "collapsed": false
   },
   "outputs": [
    {
     "data": {
      "image/png": "[encoded data removed]",
      "text/plain": [
       "<matplotlib.figure.Figure at 0x263323c24a8>"
      ]
     },
     "metadata": {},
     "output_type": "display_data"
    }
   ],
   "source": [
    "_ = plt.hist(similarity(forest_10_5_shuf), histtype=\"step\")\n",
    "_ = plt.hist(similarity(forest_10_5), histtype=\"step\")"
   ]
  },
  {
   "cell_type": "markdown",
   "metadata": {},
   "source": [
    "Observation: While genre doesn't seem to have a strong correclation with edges, it definitely has some significant influence."
   ]
  },
  {
   "cell_type": "markdown",
   "metadata": {
    "collapsed": true
   },
   "source": [
    "## Clustering Analysis"
   ]
  },
  {
   "cell_type": "code",
   "execution_count": 30,
   "metadata": {
    "collapsed": false
   },
   "outputs": [
    {
     "data": {
      "text/plain": [
       "['2Tcg8ur8LDClHZG1I11iN8',\n",
       " '0bsV0sUjnCuCTYOnNHQl3E',\n",
       " '2c9yn5DJQd5es7YMY92ikZ',\n",
       " '7b9oNYQgcmcDCFtFc3fNfp']"
      ]
     },
     "execution_count": 30,
     "metadata": {},
     "output_type": "execute_result"
    }
   ],
   "source": [
    "def clustering(graph, node):\n",
    "    existing = 0\n",
    "    for x in graph.neighbors(node):\n",
    "        existing += 1\n",
    "    return existing\n",
    "\n",
    "forest_5_5.nodes()[10:14]"
   ]
  },
  {
   "cell_type": "code",
   "execution_count": 31,
   "metadata": {
    "collapsed": false
   },
   "outputs": [
    {
     "data": {
      "text/plain": [
       "0"
      ]
     },
     "execution_count": 31,
     "metadata": {},
     "output_type": "execute_result"
    }
   ],
   "source": [
    "clustering(forest_5_5, \"2Tcg8ur8LDClHZG1I11iN8\")"
   ]
  },
  {
   "cell_type": "code",
   "execution_count": null,
   "metadata": {
    "collapsed": true
   },
   "outputs": [],
   "source": []
  }
 ],
 "metadata": {
  "anaconda-cloud": {},
  "kernelspec": {
   "display_name": "Python [default]",
   "language": "python",
   "name": "python3"
  },
  "language_info": {
   "codemirror_mode": {
    "name": "ipython",
    "version": 3
   },
   "file_extension": ".py",
   "mimetype": "text/x-python",
   "name": "python",
   "nbconvert_exporter": "python",
   "pygments_lexer": "ipython3",
   "version": "3.5.2"
  }
 },
 "nbformat": 4,
 "nbformat_minor": 1
}

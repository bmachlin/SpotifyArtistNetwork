{
 "cells": [
  {
   "cell_type": "code",
   "execution_count": 1,
   "metadata": {
    "collapsed": true
   },
   "outputs": [],
   "source": [
    "import numpy as np\n",
    "import networkx as nx\n",
    "import pandas as pd\n",
    "import math\n",
    "import random\n",
    "import matplotlib.pyplot as plt\n",
    "import graphviz\n",
    "%matplotlib inline"
   ]
  },
  {
   "cell_type": "code",
   "execution_count": 2,
   "metadata": {
    "collapsed": false
   },
   "outputs": [],
   "source": [
    "beatles_5_5 = nx.read_edgelist(\"./SAN-beatles-5-5-EL.csv\", delimiter=\"\\t\", nodetype=str, create_using=nx.DiGraph(), data=[('rank', float),])\n",
    "beatles_5_10 = nx.read_edgelist(\"./SAN-beatles-5-10-EL.csv\", delimiter=\"\\t\", nodetype=str, create_using=nx.DiGraph(), data=[('rank', float),])\n",
    "beatles_10_5 = nx.read_edgelist(\"./SAN-beatles-10-5-EL.csv\", delimiter=\"\\t\", nodetype=str, create_using=nx.DiGraph(), data=[('rank', float),])\n"
   ]
  },
  {
   "cell_type": "code",
   "execution_count": 3,
   "metadata": {
    "collapsed": false
   },
   "outputs": [
    {
     "name": "stdout",
     "output_type": "stream",
     "text": [
      "372\n",
      "1025\n",
      "3561\n",
      "11915\n",
      "3678\n",
      "16810\n"
     ]
    }
   ],
   "source": [
    "print(beatles_5_5.number_of_nodes())\n",
    "print(beatles_5_5.number_of_edges())\n",
    "print(beatles_5_10.number_of_nodes())\n",
    "print(beatles_5_10.number_of_edges())\n",
    "print(beatles_10_5.number_of_nodes())\n",
    "print(beatles_10_5.number_of_edges())"
   ]
  },
  {
   "cell_type": "code",
   "execution_count": 4,
   "metadata": {
    "collapsed": false
   },
   "outputs": [],
   "source": [
    "beatles_5_5_na = pd.read_csv(\"./SAN-beatles-5-5-NA.csv\", delimiter=\"\\t\")\n",
    "beatles_5_10_na = pd.read_csv(\"./SAN-beatles-5-10-NA.csv\", delimiter=\"\\t\")\n",
    "beatles_10_5_na = pd.read_csv(\"./SAN-beatles-10-5-NA.csv\", delimiter=\"\\t\")"
   ]
  },
  {
   "cell_type": "code",
   "execution_count": 5,
   "metadata": {
    "collapsed": false
   },
   "outputs": [],
   "source": [
    "labels = beatles_5_5_na.columns"
   ]
  },
  {
   "cell_type": "code",
   "execution_count": 6,
   "metadata": {
    "collapsed": false
   },
   "outputs": [
    {
     "name": "stdout",
     "output_type": "stream",
     "text": [
      "167\n"
     ]
    }
   ],
   "source": [
    "iter = 0\n",
    "\n",
    "for ID in beatles_5_5_na[\"id\"]:\n",
    "\n",
    "    for feature in labels:\n",
    "\n",
    "        cat = beatles_5_5_na[feature][iter]\n",
    "        \n",
    "        if type(cat) is str:\n",
    "            beatles_5_5.node[ID][feature] = cat\n",
    "            \n",
    "        if not type(cat) is float or not math.isnan(cat):\n",
    "            beatles_5_5.node[ID][feature] = cat\n",
    "        \n",
    "    iter += 1\n",
    "    \n",
    "found = False\n",
    "total = 0\n",
    "for ID in beatles_5_5.nodes():\n",
    "    found = False\n",
    "    for match in beatles_5_5_na[\"id\"]:\n",
    "        if match == ID:\n",
    "            found = True\n",
    "    if not found:\n",
    "        beatles_5_5.remove_node(ID)\n",
    "        total += 1\n",
    "\n",
    "print(total)"
   ]
  },
  {
   "cell_type": "code",
   "execution_count": 7,
   "metadata": {
    "collapsed": false
   },
   "outputs": [
    {
     "name": "stdout",
     "output_type": "stream",
     "text": [
      "1178\n"
     ]
    }
   ],
   "source": [
    "iter = 0\n",
    "\n",
    "for ID in beatles_5_10_na[\"id\"]:\n",
    "\n",
    "    for feature in labels:\n",
    "\n",
    "        cat = beatles_5_10_na[feature][iter]\n",
    "        \n",
    "        if type(cat) is str:\n",
    "            beatles_5_10.node[ID][feature] = cat\n",
    "            \n",
    "        if not type(cat) is float or not math.isnan(cat):\n",
    "            beatles_5_10.node[ID][feature] = cat\n",
    "        \n",
    "    iter += 1\n",
    "    \n",
    "found = False\n",
    "total = 0\n",
    "for ID in beatles_5_10.nodes():\n",
    "    found = False\n",
    "    for match in beatles_5_10_na[\"id\"]:\n",
    "        if match == ID:\n",
    "            found = True\n",
    "    if not found:\n",
    "        beatles_5_10.remove_node(ID)\n",
    "        total += 1\n",
    "\n",
    "print(total)"
   ]
  },
  {
   "cell_type": "code",
   "execution_count": 8,
   "metadata": {
    "collapsed": false
   },
   "outputs": [
    {
     "name": "stdout",
     "output_type": "stream",
     "text": [
      "1997\n"
     ]
    }
   ],
   "source": [
    "iter = 0\n",
    "\n",
    "for ID in beatles_10_5_na[\"id\"]:\n",
    "\n",
    "    for feature in labels:\n",
    "\n",
    "        cat = beatles_10_5_na[feature][iter]\n",
    "        \n",
    "        if type(cat) is str:\n",
    "            beatles_10_5.node[ID][feature] = cat\n",
    "            \n",
    "        if not type(cat) is float or not math.isnan(cat):\n",
    "            beatles_10_5.node[ID][feature] = cat\n",
    "        \n",
    "    iter += 1\n",
    "    \n",
    "found = False\n",
    "total = 0\n",
    "for ID in beatles_10_5.nodes():\n",
    "    found = False\n",
    "    for match in beatles_10_5_na[\"id\"]:\n",
    "        if match == ID:\n",
    "            found = True\n",
    "    if not found:\n",
    "        beatles_10_5.remove_node(ID)\n",
    "        total += 1\n",
    "\n",
    "print(total)"
   ]
  },
  {
   "cell_type": "code",
   "execution_count": 9,
   "metadata": {
    "collapsed": false
   },
   "outputs": [
    {
     "data": {
      "image/png": "[encoded data removed]",
      "text/plain": [
       "<matplotlib.figure.Figure at 0x1f37de05a90>"
      ]
     },
     "metadata": {},
     "output_type": "display_data"
    }
   ],
   "source": [
    "in_degrees_beatles_5_5 = beatles_5_5.in_degree(weight=\"rank\")\n",
    "\n",
    "in_degrees_beatles_5_5_dist = []\n",
    "for v in in_degrees_beatles_5_5.values():\n",
    "    in_degrees_beatles_5_5_dist.append(v)\n",
    "    \n",
    "_ = plt.hist(in_degrees_beatles_5_5_dist, bins=100)"
   ]
  },
  {
   "cell_type": "code",
   "execution_count": 10,
   "metadata": {
    "collapsed": false
   },
   "outputs": [
    {
     "data": {
      "image/png": "[encoded data removed]",
      "text/plain": [
       "<matplotlib.figure.Figure at 0x1f37e14a400>"
      ]
     },
     "metadata": {},
     "output_type": "display_data"
    }
   ],
   "source": [
    "in_degrees_beatles_5_10 = beatles_5_10.in_degree(weight=\"rank\")\n",
    "\n",
    "in_degrees_beatles_5_10_dist = []\n",
    "for v in in_degrees_beatles_5_10.values():\n",
    "    in_degrees_beatles_5_10_dist.append(v)\n",
    "    \n",
    "_ = plt.hist(in_degrees_beatles_5_10_dist, bins=100)"
   ]
  },
  {
   "cell_type": "code",
   "execution_count": 11,
   "metadata": {
    "collapsed": false
   },
   "outputs": [
    {
     "data": {
      "image/png": "[encoded data removed]",
      "text/plain": [
       "<matplotlib.figure.Figure at 0x1f37e4b9828>"
      ]
     },
     "metadata": {},
     "output_type": "display_data"
    }
   ],
   "source": [
    "in_degrees_beatles_10_5 = beatles_10_5.in_degree(weight=\"rank\")\n",
    "\n",
    "in_degrees_beatles_10_5_dist = []\n",
    "for v in in_degrees_beatles_10_5.values():\n",
    "    in_degrees_beatles_10_5_dist.append(v)\n",
    "    \n",
    "_ = plt.hist(in_degrees_beatles_10_5_dist, bins=100)"
   ]
  },
  {
   "cell_type": "code",
   "execution_count": 12,
   "metadata": {
    "collapsed": false
   },
   "outputs": [
    {
     "name": "stdout",
     "output_type": "stream",
     "text": [
      "{'artist': 'The Searchers', 'genre4': 'british invasion', 'genre2': 'brill building pop', 'followers': '12228', 'popularity': 44, 'id': '4QmkLL9JOqM9dusHS1Hghe', 'genre1': 'adult standards', 'level': 2, 'genre5': 'bubblegum pop', 'genre3': 'british blues'}\n",
      "\n",
      "\n",
      "{'artist': 'Savoy Brown', 'genre4': 'british blues', 'genre2': 'blues', 'followers': '9824', 'popularity': 39, 'id': '17obwOahRWI121iMUZznh2', 'genre1': 'album rock', 'level': 4, 'genre5': 'chicago blues', 'genre3': 'bluesrock'}\n",
      "\n",
      "\n",
      "{'artist': 'Alan Silvestri', 'genre2': 'soundtrack', 'followers': '57919', 'popularity': 60, 'id': '0Xk15jHKly4c3AhPr5vjoA', 'genre1': 'scorecore', 'level': 4, 'genre3': 'video game music'}\n",
      "\n",
      "\n",
      "{'artist': 'The Yardbirds', 'genre4': 'bluesrock', 'genre2': 'art rock', 'followers': '61941', 'popularity': 51, 'id': '2lxX1ivRYp26soIavdG9bX', 'genre1': 'album rock', 'level': 2, 'genre5': 'brill building pop', 'genre3': 'blues'}\n",
      "\n",
      "\n",
      "{'artist': 'Gary Lewis & The Playboys', 'genre4': 'bubblegum pop', 'genre2': 'brill building pop', 'followers': '4419', 'popularity': 38, 'id': '0XTxadWXVyfB8eTIYOjMYj', 'genre1': 'adult standards', 'level': 3, 'genre5': 'christmas', 'genre3': 'british invasion'}\n",
      "\n",
      "\n",
      "{'artist': 'Seals and Crofts', 'genre4': 'bubblegum pop', 'genre2': 'album rock', 'followers': '21693', 'popularity': 51, 'id': '6jdObwsrIjSRnBbMw6lPBj', 'genre1': 'adult standards', 'level': 3, 'genre5': 'classic rock', 'genre3': 'brill building pop'}\n",
      "\n",
      "\n",
      "{'artist': 'The Tremeloes', 'genre4': 'british invasion', 'genre2': 'brill building pop', 'followers': '7651', 'popularity': 39, 'id': '2VL8sLEJ6lHEwocjc1pN9w', 'genre1': 'adult standards', 'level': 2, 'genre5': 'bubblegum pop', 'genre3': 'british blues'}\n",
      "\n",
      "\n",
      "{'artist': 'Guy Clark', 'genre4': 'country rock', 'genre2': 'bluegrass', 'followers': '18836', 'popularity': 46, 'id': '0Ekfvspc0hlcxdfJJVjcnq', 'genre1': 'alternative country', 'level': 4, 'genre5': 'cowboy western', 'genre3': 'country christmas'}\n",
      "\n",
      "\n",
      "46.0\n"
     ]
    }
   ],
   "source": [
    "pop = 0\n",
    "num = 0\n",
    "for k,v in in_degrees_beatles_10_5.items():\n",
    "    if v > 200:\n",
    "        print(beatles_10_5.node[k])\n",
    "        print(\"\\n\")\n",
    "        pop += beatles_10_5.node[k][\"popularity\"]\n",
    "        num += 1\n",
    "print(pop/num)"
   ]
  },
  {
   "cell_type": "code",
   "execution_count": 14,
   "metadata": {
    "collapsed": false
   },
   "outputs": [],
   "source": [
    "genres_b_5_5 = []\n",
    "\n",
    "def addGenre(genre):\n",
    "    if type(genre) is str:\n",
    "        genres_b_5_5.append(genre)\n",
    "beatles_5_10_na.genre1.apply(addGenre)\n",
    "beatles_5_10_na.genre2.apply(addGenre)\n",
    "beatles_5_10_na.genre3.apply(addGenre)\n",
    "beatles_5_10_na.genre4.apply(addGenre)\n",
    "beatles_5_10_na.genre5.apply(addGenre)\n",
    "\n",
    "random.shuffle(genres10)"
   ]
  },
  {
   "cell_type": "code",
   "execution_count": null,
   "metadata": {
    "collapsed": true
   },
   "outputs": [],
   "source": []
  }
 ],
 "metadata": {
  "anaconda-cloud": {},
  "kernelspec": {
   "display_name": "Python [default]",
   "language": "python",
   "name": "python3"
  },
  "language_info": {
   "codemirror_mode": {
    "name": "ipython",
    "version": 3
   },
   "file_extension": ".py",
   "mimetype": "text/x-python",
   "name": "python",
   "nbconvert_exporter": "python",
   "pygments_lexer": "ipython3",
   "version": "3.5.2"
  }
 },
 "nbformat": 4,
 "nbformat_minor": 1
}
